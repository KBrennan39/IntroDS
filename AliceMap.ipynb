{
 "cells": [
  {
   "cell_type": "markdown",
   "metadata": {},
   "source": [
    "### This program prints a random word that comes after another random word in the Alice in Wonderland text"
   ]
  },
  {
   "cell_type": "code",
   "execution_count": 84,
   "metadata": {},
   "outputs": [],
   "source": [
    "def takelength():\n",
    "    return input('Enter the length of the sentance: ')"
   ]
  },
  {
   "cell_type": "code",
   "execution_count": 85,
   "metadata": {},
   "outputs": [],
   "source": [
    "def printSentanceWords(sentance, d):\n",
    "    s = sentance.split()\n",
    "    for i in s:\n",
    "        print(i, \": \", d[i])"
   ]
  },
  {
   "cell_type": "code",
   "execution_count": 86,
   "metadata": {},
   "outputs": [],
   "source": [
    "def printRand(d):\n",
    "    length = int(takelength())\n",
    "    newWord = random.choice(list(d.keys()))\n",
    "    sentance = \"\"\n",
    "    for i in range(length):\n",
    "        sentance += newWord + \" \"\n",
    "        newWord = random.choice(d[newWord])\n",
    "    print(sentance)\n",
    "    m = d\n",
    "    printSentanceWords(sentance, m)"
   ]
  },
  {
   "cell_type": "code",
   "execution_count": 13,
   "metadata": {},
   "outputs": [
    {
     "name": "stdout",
     "output_type": "stream",
     "text": [
      "Enter the length of the sentance: 2\n",
      "attended to \n",
      "attended :  ['to']\n",
      "to :  ['get', 'do', 'hear', 'itself', 'her', 'have', 'her', 'take', 'see', 'get', 'think', 'look', 'wonder', 'happen', 'look', 'but', 'see', 'her', 'drop', 'put', 'herself', 'an', 'listen', 'her', 'say', 'alice', 'say', 'come', 'ask', 'curtsey', 'ask', 'do', 'get', 'herself', 'dream', 'her', 'her', 'be', 'hear', 'be', 'get', 'one', 'her', 'get', 'begin', 'think', 'be', 'the', 'say', 'do', 'disagree', 'taste', 'see', 'shrink', 'herself', 'fancy', 'the', 'the', 'climb', 'herself', 'leave', 'bring', 'box', 'be', 'pretend', 'be', 'make', 'herself', 'feel', 'find', 'be', 'happen', 'go', 'work', 'speak', 'be', 'trouble', 'them', 'go', 'herself', 'ones', 'the', 'look', 'get', 'cry', 'be', 'go', 'see', 'himself', 'ask', 'see', 'know', 'twenty', 'repeat', 'do', 'grin', 'go', 'no', 'play', 'learn', 'see', 'the', 'measure', 'avoid', 'find', 'the', 'her', 'herself', 'the', 'the', 'on', 'find', 'be', 'make', 'speak', 'this', 'a', 'her', 'wink', 'quiver', 'cats', 'herself', 'nurseand', 'the', 'change', 'show', 'a', 'her', 'the', 'go', 'the', 'them', 'get', 'alice', 'find', 'tell', 'be', 'be', 'me', 'by', 'usurpation', 'go', 'meet', 'alice', 'dry', 'its', 'hide', 'say', 'get', 'know', 'speak', 'say', 'explain', 'do', 'try', 'know', 'give', 'alice', 'do', 'alice', 'laugh', 'say', 'eat', 'be', 'tell', 'tell', 'alice', 'a', 'law', 'do', 'the', 'death', 'alice', 'the', 'make', 'undo', 'her', 'you', 'lose', 'try', 'ask', 'talk', 'its', 'herself', 'like', 'cry', 'finish', 'itself', 'be', 'have', 'her', 'without', 'explain', 'herself', 'herself', 'be', 'see', 'leave', 'her', 'happen', 'herself', 'stoop', 'save', 'herself', 'wish', 'kneel', 'herself', 'be', 'me', 'read', 'be', 'grow', 'be', 'have', 'learn', 'listen', 'look', 'be', 'the', 'open', 'itself', 'stay', 'bring', 'go', 'go', 'go', 'come', 'herself', 'put', 'be', 'herself', 'see', 'you', 'tell', 'herself', 'begin', 'doubt', 'this', 'herself', 'make', 'find', 'get', 'do', 'herself', 'grow', 'my', 'find', 'set', 'touch', 'whistle', 'it', 'eat', 'the', 'worry', 'keep', 'get', 'be', 'alice', 'rest', 'do', 'grow', 'be', 'eat', 'eat', 'her', 'begin', 'turn', 'me', 'the', 'tell', 'be', 'say', 'do', 'say', 'his', 'sell', 'do', 'the', 'my', 'such', 'end', 'speak', 'be', 'size', 'be', 'be', 'it', 'it', 'speak', 'herself', 'make', 'herself', 'try', 'be', 'work', 'eat', 'open', 'swallow', 'be', 'rise', 'and', 'follow', 'be', 'her', 'get', 'them', 'find', 'dive', 'be', 'suit', 'her', 'see', 'a', 'invent', 'alice', 'me', 'me', 'stop', 'work', 'her', 'it', 'herself', 'be', 'another', 'my', 'get', 'be', 'come', 'go', 'nine', 'do', 'be', 'know', 'listen', 'the', 'play', 'play', 'run', 'the', 'pieces', 'get', 'her', 'herself', 'get', 'pieces', 'get', 'get', 'be', 'herself', 'drive', 'think', 'do', 'him', 'the', 'be', 'herself', 'ear', 'speak', 'the', 'her', 'have', 'introduce', 'fix', 'work', 'say', 'get', 'turn', 'see', 'take', 'be', 'it', 'your', 'annoy', 'my', 'alice', 'play', 'hold', 'twist', 'prevent', 'kill', 'leave', 'see', 'see', 'turn', 'do', 'say', 'think', 'herself', 'do', 'carry', 'see', 'herself', 'herself', 'change', 'be', 'go', 'get', 'said', 'do', 'go', 'begin', 'queer', 'ask', 'see', 'live', 'herself', 'go', 'about', 'herself', 'see', 'offer', 'sit', 'make', 'it', 'be', 'break', 'alice', 'his', 'say', 'have', 'remark', 'alice', 'time', 'beat', 'begin', 'whisper', 'time', 'itself', 'halfpast', 'sing', 'pinch', 'make', 'wash', 'the', 'ask', 'fancy', 'herself', 'alice', 'take', 'say', 'this', 'some', 'the', 'think', 'go', 'draw', 'offend', 'the', 'notice', 'draw', 'put', 'the', 'herself', 'work', 'watch', 'them', 'be', 'fall', 'have', 'find', 'at', 'see', 'lie', 'lie', 'alice', 'the', 'alice', 'herself', 'the', 'the', 'the', 'the', 'execute', 'alice', 'her', 'your', 'double', 'stand', 'make', 'give', 'begin', 'find', 'send', 'and', 'other', 'the', 'feel', 'be', 'be', 'herself', 'talk', 'how', 'speak', 'it', 'listen', 'her', 'think', 'have', 'themand', 'go', 'win', 'said', 'alice', 'introduce', 'be', 'alice', 'the', 'fly', 'the', 'find', 'by', 'settle', 'her', 'make', 'cut', 'do', 'begin', 'talk', 'say', 'the', 'the', 'the', 'see', 'find', 'herself', 'herself', 'her', 'talk', 'remark', 'alices', 'her', 'rest', 'be', 'herself', 'have', 'agree', 'everything', 'this', 'beor', 'be', 'others', 'them', 'be', 'what', 'say', 'say', 'think', 'feel', 'fly', 'alices', 'tremble', 'alice', 'say', 'the', 'the', 'leave', 'do', 'alice', 'the', 'herself', 'see', 'hear', 'stay', 'go', 'itself', 'alice', 'the', 'know', 'herself', 'come', 'school', 'call', 'be', 'sink', 'the', 'school', 'school', 'a', 'learn', 'begin', 'say', 'beautify', 'uglify', 'ask', 'the', 'learn', 'come', 'the', 'him', 'say', 'change', 'day', 'alice', 'speak', 'work', 'a', 'say', 'partners', 'sea', 'land', 'see', 'the', 'mark', 'a', 'sea', 'france', 'watch', 'the', 'the', 'the', 'sea', 'fall', 'the', 'have', 'me', 'yesterday', 'her', 'the', 'the', 'hear', 'begin', 'repeat', 'say', 'have', 'change', 'disobey', 'pocket', 'do', 'sing', 'sing', 'repeat', 'guard', 'look', 'be', 'pass', 'find', 'herself', 'see', 'say', 'herself', 'the', 'put', 'make', 'spell', 'ask', 'tell', 'write', 'the', 'come', 'have', 'the', 'shillings', 'the', 'the', 'sell', 'encourage', 'the', 'grow', 'remain', 'her', 'grow', 'the', 'one', 'see', 'you', 'put', 'one', 'the', 'the', 'see', 'herself', 'the', 'move', 'herself', 'them', 'work', 'write', 'do', 'alice', 'the', 'write', 'himself', 'look', 'herself', 'leave', 'be', 'the', 'come', 'be', 'nobody', 'said', 'the', 'her', 'him', 'be', 'you', 'be', 'you', 'set', 'explain', 'find', 'see', 'the', 'himself', 'be', 'you', 'the', 'the', 'her', 'beat', 'your', 'keep', 'listen', 'executiononce', 'open', 'dull', 'the', 'tinkling', 'the', 'the', 'herself']\n"
     ]
    }
   ],
   "source": [
    "import string\n",
    "import random\n",
    "fhand = open('alice.txt')\n",
    "d = {}\n",
    "count = 1\n",
    "fhand = fhand.read()\n",
    "words = fhand.split()\n",
    "s = \"\"\n",
    "for i in string.punctuation:\n",
    "    if i != '.': s+= i\n",
    "for word in words:\n",
    "    if count != len(words):\n",
    "        word = word.translate(word.maketrans('', '', s))\n",
    "        word = word.lower()\n",
    "        words[count] = words[count].translate(words[count].maketrans('', '', string.punctuation))\n",
    "        words[count] = words[count].lower()\n",
    "        if word in d:\n",
    "            d[word].append(words[count])\n",
    "        else:\n",
    "            d[word] = list()\n",
    "            d[word].append(words[count])\n",
    "        \n",
    "    count +=1\n",
    "printRand(d)\n"
   ]
  },
  {
   "cell_type": "code",
   "execution_count": null,
   "metadata": {},
   "outputs": [],
   "source": []
  }
 ],
 "metadata": {
  "kernelspec": {
   "display_name": "Python 3",
   "language": "python",
   "name": "python3"
  },
  "language_info": {
   "codemirror_mode": {
    "name": "ipython",
    "version": 3
   },
   "file_extension": ".py",
   "mimetype": "text/x-python",
   "name": "python",
   "nbconvert_exporter": "python",
   "pygments_lexer": "ipython3",
   "version": "3.7.3"
  }
 },
 "nbformat": 4,
 "nbformat_minor": 2
}
