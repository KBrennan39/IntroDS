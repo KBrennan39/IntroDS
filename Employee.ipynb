{
 "cells": [
  {
   "cell_type": "code",
   "execution_count": 63,
   "metadata": {},
   "outputs": [],
   "source": [
    "class Employee():\n",
    "    raise_amount = 1.04\n",
    "    def __init__(self, f_name, l_name, pay):\n",
    "        self.f_name = f_name\n",
    "        self.l_name = l_name\n",
    "        self.pay = pay\n",
    "    def fullName(self):\n",
    "        return \"{} {}\".format(self.f_name, self.l_name)\n",
    "    def applyRaise(self):\n",
    "        self.pay *= self.raise_amount"
   ]
  },
  {
   "cell_type": "code",
   "execution_count": 64,
   "metadata": {},
   "outputs": [],
   "source": [
    "class Developer(Employee):\n",
    "    raise_amount = 1.1\n",
    "    def __init__(self, f_name, l_name, pay, prog_lang):\n",
    "        super().__init__(f_name, l_name, pay)\n",
    "        self.prog_lang = prog_lang"
   ]
  },
  {
   "cell_type": "code",
   "execution_count": 67,
   "metadata": {},
   "outputs": [],
   "source": [
    "class Manager(Employee):\n",
    "    def __init__(self, f_name, l_name, pay, employees=None):\n",
    "        super().__init__(f_name, l_name, pay)\n",
    "        if employees is None:\n",
    "            self.employees = list()\n",
    "        else:\n",
    "            self.employees = employees\n",
    "    def hire(self, employee):\n",
    "        self.employees.append(employee)\n",
    "        print(employee.f_name, employee.l_name, \" is hired!\")\n",
    "    def fire(self, employee):\n",
    "        if employee in self.employees:\n",
    "            self.employees.remove(employee)\n",
    "            print(employee.f_name, employee.l_name, \" is fired!\")\n",
    "        else:\n",
    "            print(\"You cannot fire someone you have not empoyed :(\")\n",
    "    def print_employees(self):\n",
    "        print(\"Employees: \")\n",
    "        for e in self.employees:\n",
    "            print(e.f_name, e.l_name)"
   ]
  },
  {
   "cell_type": "code",
   "execution_count": 73,
   "metadata": {},
   "outputs": [
    {
     "name": "stdout",
     "output_type": "stream",
     "text": [
      "15000\n",
      "16500.0\n",
      "Employees: \n",
      "Kiersten Brennan\n",
      "Taiwo Togun\n",
      "\n",
      "Hugh Kramer  is hired!\n",
      "\n",
      "Employees: \n",
      "Kiersten Brennan\n",
      "Taiwo Togun\n",
      "Hugh Kramer\n",
      "\n",
      "Kiersten Brennan  is fired!\n",
      "\n",
      "Employees: \n",
      "Taiwo Togun\n",
      "Hugh Kramer\n"
     ]
    }
   ],
   "source": [
    "employee1 = Developer(\"Kiersten\", \"Brennan\", 15000, \"Python\")\n",
    "employee1.fullName()\n",
    "print(employee1.pay)\n",
    "employee1.applyRaise()\n",
    "print(employee1.pay)\n",
    "employee3 = Employee(\"Taiwo\", \"Togun\", 20000)\n",
    "employee2 = Manager(\"Emily\", \"Lo\", 30000, [employee1, employee3])\n",
    "employee2.print_employees()\n",
    "print()\n",
    "employee2.hire(Employee(\"Hugh\", \"Kramer\", 15000))\n",
    "print()\n",
    "employee2.print_employees()\n",
    "print()\n",
    "employee2.fire(employee1)\n",
    "print()\n",
    "employee2.print_employees()"
   ]
  },
  {
   "cell_type": "code",
   "execution_count": null,
   "metadata": {},
   "outputs": [],
   "source": []
  }
 ],
 "metadata": {
  "kernelspec": {
   "display_name": "Python 3",
   "language": "python",
   "name": "python3"
  },
  "language_info": {
   "codemirror_mode": {
    "name": "ipython",
    "version": 3
   },
   "file_extension": ".py",
   "mimetype": "text/x-python",
   "name": "python",
   "nbconvert_exporter": "python",
   "pygments_lexer": "ipython3",
   "version": "3.7.3"
  }
 },
 "nbformat": 4,
 "nbformat_minor": 2
}
