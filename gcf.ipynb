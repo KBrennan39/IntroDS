{
 "cells": [
  {
   "cell_type": "markdown",
   "metadata": {},
   "source": [
    "#Learning python\n",
    "###Kiersten Brennan\n",
    "###9/17/2019"
   ]
  },
  {
   "cell_type": "code",
   "execution_count": null,
   "metadata": {},
   "outputs": [],
   "source": [
    "num1 = input(\"Enter a number: \")\n",
    "num2 = input(\"Enter another number:\")\n",
    "num1 = int(num1)\n",
    "num2 = int(num2)\n",
    "count = 2\n",
    "gcf = 1\n",
    "while count <= min(num1, num2):\n",
    "    if num1 % count == 0 and num2 % count ==0:\n",
    "        gcf = count\n",
    "    count = count + 1\n",
    "print(gcf)\n"
   ]
  }
 ],
 "metadata": {
  "kernelspec": {
   "display_name": "Python 3",
   "language": "python",
   "name": "python3"
  },
  "language_info": {
   "codemirror_mode": {
    "name": "ipython",
    "version": 3
   },
   "file_extension": ".py",
   "mimetype": "text/x-python",
   "name": "python",
   "nbconvert_exporter": "python",
   "pygments_lexer": "ipython3",
   "version": "3.7.3"
  }
 },
 "nbformat": 4,
 "nbformat_minor": 2
}
