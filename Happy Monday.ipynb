{
 "cells": [
  {
   "cell_type": "markdown",
   "metadata": {},
   "source": [
    "## Fun python exercise\n",
    "- This function puts all of the even numbers with even indices from a certain list into another list"
   ]
  },
  {
   "cell_type": "code",
   "execution_count": 23,
   "metadata": {},
   "outputs": [],
   "source": [
    "def evenList(l):\n",
    "    #return [l[number] for number in range(len(l)) if l[number]%2 ==0 and number%2 == 0]\n",
    "    return [x for i, x in enumerate(l) if x % 2==0 and i%2 == 0]"
   ]
  },
  {
   "cell_type": "markdown",
   "metadata": {},
   "source": [
    "- This function prints the least integer that cannot be represented as a summation of numbers in a certain list"
   ]
  },
  {
   "cell_type": "code",
   "execution_count": 24,
   "metadata": {},
   "outputs": [],
   "source": [
    "def findSmallest(l):\n",
    "    l.sort(reverse=True)\n",
    "    count = 0\n",
    "    num = 0\n",
    "    isFound = False\n",
    "    while not isFound:\n",
    "        count += 1\n",
    "        num = count\n",
    "        for i in range(len(l)):\n",
    "            if num<l[i]:\n",
    "                continue\n",
    "            elif num-l[i] == 0:\n",
    "                num = 0\n",
    "                break\n",
    "            else:\n",
    "                num -= l[i]\n",
    "        if num > 0: isFound = True\n",
    "    return count"
   ]
  },
  {
   "cell_type": "markdown",
   "metadata": {},
   "source": [
    "- These next few functions are used to do the same as above but using combinations from itertools"
   ]
  },
  {
   "cell_type": "code",
   "execution_count": 25,
   "metadata": {},
   "outputs": [],
   "source": [
    "def findSmallest2(l):\n",
    "    count = 1\n",
    "    allSums = findAllSums(l)\n",
    "    while True:\n",
    "        if count not in allSums: return count\n",
    "        count += 1"
   ]
  },
  {
   "cell_type": "code",
   "execution_count": 26,
   "metadata": {},
   "outputs": [],
   "source": [
    "from itertools import combinations\n",
    "def findAllSums(l):\n",
    "    allSums = list()\n",
    "    i = 1\n",
    "    curArray = []\n",
    "    while i <= len(l): \n",
    "        curArray = list(combinations(l, i))\n",
    "        for a in curArray:\n",
    "            allSums.append(sumArray(a))\n",
    "        i = i + 1\n",
    "    return allSums"
   ]
  },
  {
   "cell_type": "code",
   "execution_count": 27,
   "metadata": {},
   "outputs": [],
   "source": [
    "def sumArray(l):\n",
    "    s = 0\n",
    "    for i in l: s+= i\n",
    "    return s"
   ]
  },
  {
   "cell_type": "code",
   "execution_count": 28,
   "metadata": {},
   "outputs": [
    {
     "name": "stdout",
     "output_type": "stream",
     "text": [
      "18\n"
     ]
    }
   ],
   "source": [
    "l = [1, 2, 2, 5, 7]\n",
    "print(findSmallest2(l))"
   ]
  },
  {
   "cell_type": "code",
   "execution_count": null,
   "metadata": {},
   "outputs": [],
   "source": []
  }
 ],
 "metadata": {
  "kernelspec": {
   "display_name": "Python 3",
   "language": "python",
   "name": "python3"
  },
  "language_info": {
   "codemirror_mode": {
    "name": "ipython",
    "version": 3
   },
   "file_extension": ".py",
   "mimetype": "text/x-python",
   "name": "python",
   "nbconvert_exporter": "python",
   "pygments_lexer": "ipython3",
   "version": "3.7.3"
  }
 },
 "nbformat": 4,
 "nbformat_minor": 2
}
