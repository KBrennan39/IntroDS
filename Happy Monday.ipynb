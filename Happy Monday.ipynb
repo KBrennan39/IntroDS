{
 "cells": [
  {
   "cell_type": "markdown",
   "metadata": {},
   "source": [
    "## Fun python exercise\n",
    "- This function puts all of the even numbers with even indices from a certain list into another list"
   ]
  },
  {
   "cell_type": "code",
   "execution_count": 12,
   "metadata": {},
   "outputs": [],
   "source": [
    "def evenList(l):\n",
    "    #return [l[number] for number in range(len(l)) if l[number]%2 ==0 and number%2 == 0]\n",
    "    return [x for i, x in enumerate(l) if x % 2==0 and i%2 == 0]"
   ]
  },
  {
   "cell_type": "markdown",
   "metadata": {},
   "source": [
    "- This function prints the least integer that cannot be represented as a summation of numbers in a certain list"
   ]
  },
  {
   "cell_type": "code",
   "execution_count": 21,
   "metadata": {},
   "outputs": [],
   "source": [
    "def findSmallest(l):\n",
    "    l.sort(reverse=True)\n",
    "    count = 0\n",
    "    num = 0\n",
    "    isFound = False\n",
    "    while not isFound:\n",
    "        count += 1\n",
    "        num = count\n",
    "        for i in range(len(l)):\n",
    "            if num<l[i]:\n",
    "                continue\n",
    "            elif num-l[i] == 0:\n",
    "                num = 0\n",
    "                break\n",
    "            else:\n",
    "                num -= l[i]\n",
    "        if num > 0: isFound = True\n",
    "    return count"
   ]
  },
  {
   "cell_type": "code",
   "execution_count": 24,
   "metadata": {},
   "outputs": [
    {
     "data": {
      "text/plain": [
       "4"
      ]
     },
     "execution_count": 24,
     "metadata": {},
     "output_type": "execute_result"
    }
   ],
   "source": [
    "l = [1, 2, 5, 7]\n",
    "findSmallest(l)"
   ]
  },
  {
   "cell_type": "code",
   "execution_count": null,
   "metadata": {},
   "outputs": [],
   "source": []
  }
 ],
 "metadata": {
  "kernelspec": {
   "display_name": "Python 3",
   "language": "python",
   "name": "python3"
  }
 },
 "nbformat": 4,
 "nbformat_minor": 2
}
