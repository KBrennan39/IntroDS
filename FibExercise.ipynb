{
 "cells": [
  {
   "cell_type": "code",
   "execution_count": 23,
   "metadata": {},
   "outputs": [
    {
     "data": {
      "text/plain": [
       "[[22, 9],\n",
       " [27, 8],\n",
       " [29, 7],\n",
       " [33, 6],\n",
       " [40, 5],\n",
       " [47, 4],\n",
       " [63, 3],\n",
       " [88, 2],\n",
       " [151, 1]]"
      ]
     },
     "execution_count": 23,
     "metadata": {},
     "output_type": "execute_result"
    }
   ],
   "source": [
    "fib = [1, 1]\n",
    "first= {}\n",
    "for i in range(498):\n",
    "    fib.append(fib[-1]+fib[-2])\n",
    "for i in fib:\n",
    "    if first_digit(i) in first:\n",
    "        first[first_digit(i)]+=1\n",
    "    else:\n",
    "        first[first_digit(i)]=1\n",
    "sort_dict(first)"
   ]
  },
  {
   "cell_type": "code",
   "execution_count": 15,
   "metadata": {},
   "outputs": [],
   "source": [
    "def first_digit(num):\n",
    "    while num>10:\n",
    "        num/=10\n",
    "    return int(num)"
   ]
  },
  {
   "cell_type": "code",
   "execution_count": 18,
   "metadata": {},
   "outputs": [
    {
     "data": {
      "text/plain": [
       "500"
      ]
     },
     "execution_count": 18,
     "metadata": {},
     "output_type": "execute_result"
    }
   ],
   "source": [
    "s =0\n",
    "for key in first:\n",
    "    s+= first[key]\n",
    "s"
   ]
  },
  {
   "cell_type": "code",
   "execution_count": 22,
   "metadata": {},
   "outputs": [],
   "source": [
    "def sort_dict(d):\n",
    "    l = []\n",
    "    for key in d:\n",
    "        l.append([d[key], key])\n",
    "    return sorted(l)"
   ]
  },
  {
   "cell_type": "code",
   "execution_count": null,
   "metadata": {},
   "outputs": [],
   "source": [
    "def make_fib(num):\n",
    "  fib = [1, 1]\n",
    "  first= {}\n",
    "  for i in range(num-2):\n",
    "      fib.append(fib[-1]+fib[-2])"
   ]
  }
 ],
 "metadata": {
  "kernelspec": {
   "display_name": "Python 3",
   "language": "python",
   "name": "python3"
  },
  "language_info": {
   "codemirror_mode": {
    "name": "ipython",
    "version": 3
   },
   "file_extension": ".py",
   "mimetype": "text/x-python",
   "name": "python",
   "nbconvert_exporter": "python",
   "pygments_lexer": "ipython3",
   "version": "3.7.3"
  }
 },
 "nbformat": 4,
 "nbformat_minor": 2
}
