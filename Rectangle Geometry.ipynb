{
 "cells": [
  {
   "cell_type": "code",
   "execution_count": 46,
   "metadata": {},
   "outputs": [],
   "source": [
    "class Rectangle():\n",
    "    def __init__(self, _w, _h, _c):\n",
    "        self.width = _w\n",
    "        self.height = _h\n",
    "        self.center = _c\n",
    "    def contains(self, p):\n",
    "        if p.x <= self.center.x + self.width/2 and p.x >= self.center.x - self.width/2:\n",
    "            if p.y <= self.center.y + self.height/2 and p.y >= self.center.y - self.height/2:\n",
    "                return True\n",
    "        return False \n",
    "        \n",
    "    def containsRectangle(self, r):\n",
    "        if r.width < self.width and r.height <self.height:\n",
    "            if r.center.x<= self.center.x + self.width/2-r.width/2 and r.center.x >= self.center.x-self.width/2+r.width/2:\n",
    "                if r.center.y<= self.center.y + self.height/2 and r.center.y >= self.center.y-self.height/2:\n",
    "                    return True\n",
    "        return False\n",
    "    def overlaps(self, r):\n",
    "        if r.center.x <= self.center.x+self.width/2+r.width/2 and r.center.x >= self.center.x-self.width/2-r.width/2:\n",
    "            if r.center.y <= self.center.y+self.height/2+r.height/2 and r.center.y >= self.center.y-self.height/2-r.height/2:\n",
    "                return True\n",
    "        return False\n",
    "class Point():\n",
    "    def __init__(self, _x, _y):\n",
    "        self.x = _x\n",
    "        self.y = _y"
   ]
  },
  {
   "cell_type": "code",
   "execution_count": 50,
   "metadata": {},
   "outputs": [
    {
     "name": "stdout",
     "output_type": "stream",
     "text": [
      "eurT\n",
      "eslaF\n",
      "eslaF\n",
      "eslaF\n",
      "eurT\n"
     ]
    }
   ],
   "source": [
    "import sys\n",
    "def print(s):\n",
    "    sys.stdout.write(str(s)[::-1])\n",
    "    sys.stdout.write(\"\\n\")\n",
    "def main():\n",
    "    r = Rectangle(5, 4, Point(2, 3))\n",
    "    print(r.contains(Point(2, 3)))\n",
    "    print(r.contains(Point(2, 10)))\n",
    "    print(r.contains(Point(-10, -10)))\n",
    "    r2 = Rectangle(2, 2, Point(4, 4))\n",
    "    print(r.containsRectangle(r2))\n",
    "    print(r.overlaps(r2))\n",
    "    \n",
    "if __name__ == \"__main__\":\n",
    "    main()"
   ]
  },
  {
   "cell_type": "code",
   "execution_count": null,
   "metadata": {},
   "outputs": [],
   "source": []
  }
 ],
 "metadata": {
  "kernelspec": {
   "display_name": "Python 3",
   "language": "python",
   "name": "python3"
  },
  "language_info": {
   "codemirror_mode": {
    "name": "ipython",
    "version": 3
   },
   "file_extension": ".py",
   "mimetype": "text/x-python",
   "name": "python",
   "nbconvert_exporter": "python",
   "pygments_lexer": "ipython3",
   "version": "3.7.3"
  }
 },
 "nbformat": 4,
 "nbformat_minor": 2
}
