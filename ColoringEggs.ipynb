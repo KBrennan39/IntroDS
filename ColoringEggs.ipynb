{
 "cells": [
  {
   "cell_type": "code",
   "execution_count": 1,
   "metadata": {},
   "outputs": [],
   "source": [
    "import pandas as pd"
   ]
  },
  {
   "cell_type": "code",
   "execution_count": 2,
   "metadata": {},
   "outputs": [],
   "source": [
    "data = pd.DataFrame(data={'red': [20, 0, 0, 0, 5, 1, 3, 0, 3, 0, 14, 0],\n",
    "                   \"blue\" : [0, 20, 0, 0, 1, 0, 0, 0, 0, 4, 6, 5],\n",
    "                   \"green\" : [0, 0, 20, 0, 0, 0, 0, 1, 3, 1, 0, 15],\n",
    "                   \"yellow\" : [0, 0, 0, 20, 0, 3, 5, 3, 4, 0, 0, 0]}, \n",
    "                    index=[\"RED\", \"BLUE\", \"GREEN\", \"YELLOW\", \"PURPLE\", \"PEACH\", \"ORANGE\", \"LIME\", \"BROWN\", \"TURQUOISE\", \"PINK\", \"TEAL\"])"
   ]
  },
  {
   "cell_type": "code",
   "execution_count": 3,
   "metadata": {},
   "outputs": [],
   "source": [
    "def check(color):\n",
    "    if color == \"BLACK\":\n",
    "        print(\"Black? Really? Try again :(\")\n",
    "        return False\n",
    "    elif color == \"WHITE\":\n",
    "        print(\"An egg is already white! Try again :(\")\n",
    "        return False\n",
    "    elif color not in data.index:\n",
    "        print(color.lower(), \" is not a valid option. Please try again\")\n",
    "        return False\n",
    "    else:\n",
    "        return True"
   ]
  },
  {
   "cell_type": "code",
   "execution_count": 4,
   "metadata": {},
   "outputs": [],
   "source": [
    "def print_recipe(color):\n",
    "    print(\"Recipe for the color \", color, \":\")\n",
    "    print(str(data.loc[color, \"red\"]), \"drop(s) of red\")\n",
    "    print(str(data.loc[color, \"blue\"]), \"drop(s) of blue\")\n",
    "    print(str(data.loc[color, \"green\"]), \"drop(s) of green\")\n",
    "    print(str(data.loc[color, \"yellow\"]), \"drop(s) of yellow\")"
   ]
  },
  {
   "cell_type": "code",
   "execution_count": null,
   "metadata": {},
   "outputs": [],
   "source": [
    "count =0\n",
    "while count<10:\n",
    "    color= input(\"What color egg do you want?\")\n",
    "    color= str(color)\n",
    "    if check(color.upper()) == True:\n",
    "        print_recipe(color.upper())\n",
    "        count+=1\n",
    "    else: continue\n",
    "print(\"That's enough!\")"
   ]
  },
  {
   "cell_type": "code",
   "execution_count": null,
   "metadata": {},
   "outputs": [],
   "source": []
  }
 ],
 "metadata": {
  "kernelspec": {
   "display_name": "Python 3",
   "language": "python",
   "name": "python3"
  },
  "language_info": {
   "codemirror_mode": {
    "name": "ipython",
    "version": 3
   },
   "file_extension": ".py",
   "mimetype": "text/x-python",
   "name": "python",
   "nbconvert_exporter": "python",
   "pygments_lexer": "ipython3",
   "version": "3.7.3"
  }
 },
 "nbformat": 4,
 "nbformat_minor": 2
}
