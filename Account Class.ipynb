{
 "cells": [
  {
   "cell_type": "code",
   "execution_count": null,
   "metadata": {},
   "outputs": [],
   "source": [
    "class Account():\n",
    "    annualInterestRate = 0\n",
    "    dateCreated = \"1/16/2020\"\n",
    "    def defaultAccount(self):\n",
    "        self.i_d = 0\n",
    "        self.balance = 0.0\n",
    "    def __init__(self, i_d, balance):\n",
    "        self.i_d = i_d\n",
    "        self.balance = balance\n",
    "    def getId(self):\n",
    "        return self.i_d\n",
    "    def setId(self, i_d):\n",
    "        self.i_d = i_d\n",
    "    def getBalance(self):\n",
    "        return self.balance\n",
    "    def setBalance(self, balance):\n",
    "        self.balance = balance\n",
    "    def getAnnualInterestRate(self):\n",
    "        return self.annualInterestRate\n",
    "    def setAnnualInterestRate(self, rate):\n",
    "        self.annualInterestRate = rate\n",
    "    def getDate(self):\n",
    "        return self.dateCreated\n",
    "    def getMonthlyInterestRate(self):\n",
    "        return self.annualInterestRate/12\n",
    "    def getMonthlyInterest(self):\n",
    "        return self.balance * (self.annualInterestRate / 12)\n",
    "    def withdraw(self, amount):\n",
    "        self.balance-=amount\n",
    "    def deposit(self, amount):\n",
    "        self.balance+=amount"
   ]
  },
  {
   "cell_type": "code",
   "execution_count": 1,
   "metadata": {},
   "outputs": [],
   "source": [
    "def mainMenu():\n",
    "    print(\"Main Menu\")\n",
    "    print(\"1: check balance\")\n",
    "    print(\"2: withdraw\")\n",
    "    print(\"3: deposit\")\n",
    "    print(\"4: exit\")\n",
    "    return int(input(\"Enter a choice: \"))"
   ]
  },
  {
   "cell_type": "code",
   "execution_count": null,
   "metadata": {},
   "outputs": [],
   "source": [
    "a = [Account(0, 100), Account(1, 100), Account(2, 100), Account(3, 100), Account(4, 100), \n",
    "     Account(5, 100), Account(6, 100), Account(7, 100), Account(8, 100), Account(9, 100)]\n",
    "while True: \n",
    "    i_d = input(\"Enter an id: \")\n",
    "    try:\n",
    "        i_d = int(i_d)\n",
    "        ans = mainMenu()\n",
    "        while not ans == 4:\n",
    "            if ans == 1: print(a[i_d].getBalance())\n",
    "            elif ans == 2: a[i_d].withdraw(int(input(\"Enter an amount to withdraw\")))\n",
    "            else: a[i_d].deposit(int(input(\"Enter an amount to deposit\")))\n",
    "            ans = mainMenu()\n",
    "    except:\n",
    "        continue                                                                              "
   ]
  },
  {
   "cell_type": "code",
   "execution_count": 1,
   "metadata": {},
   "outputs": [],
   "source": [
    "class LinearEquation():\n",
    "    def __init__(self, a, b, c, d, e, f):\n",
    "        self.a = a\n",
    "        self.b = b\n",
    "        self.c = c\n",
    "        self.d = d\n",
    "        self.e = e\n",
    "        self.f = f\n",
    "    def getA(self):\n",
    "        return self.a\n",
    "    def getB(self):\n",
    "        return self.b\n",
    "    def getC(self):\n",
    "        return self.c\n",
    "    def getD(self):\n",
    "        return self.d\n",
    "    def getE(self):\n",
    "        return self.e\n",
    "    def getF(self):\n",
    "        return self.f\n",
    "    def isSolvable(self):\n",
    "        return not (self.a*self.d) - (self.b*self.c) == 0\n",
    "    def getX(self):\n",
    "        return ((self.e*self.d) - (self.b*self.f))/((self.a*self.d) - (self.b*self.c))\n",
    "    def getY(self):\n",
    "        return ((self.a*self.f) - (self.e*self.c))/((self.a*self.d) - (self.b*self.c))"
   ]
  },
  {
   "cell_type": "code",
   "execution_count": null,
   "metadata": {},
   "outputs": [],
   "source": [
    "a = int(input(\"Enter a: \"))\n",
    "b = int(input(\"Enter b: \"))\n",
    "c = int(input(\"Enter c: \"))\n",
    "d = int(input(\"Enter d: \"))\n",
    "e = int(input(\"Enter e: \"))\n",
    "f = int(input(\"Enter f: \"))\n",
    "l = LinearEquation(a, b, c, d, e, f)\n",
    "if l.isSolvable():\n",
    "    print(\"X = \", l.getX)\n",
    "    print(\"Y = \", l.getY)\n",
    "else:\n",
    "    print(\"The equation has no solution\")"
   ]
  },
  {
   "cell_type": "code",
   "execution_count": null,
   "metadata": {},
   "outputs": [],
   "source": [
    "x1 = int(input(\"Enter x1\"))\n",
    "y1 = int(input(\"Enter y1\"))\n",
    "x2 = int(input(\"Enter x2\"))\n",
    "y2 = int(input(\"Enter y2\"))\n",
    "x3 = int(input(\"Enter x3\"))\n",
    "y3 = int(input(\"Enter y3\"))\n",
    "x4 = int(input(\"Enter x4\"))\n",
    "y4 = int(input(\"Enter y4\"))\n",
    "slope1 = (y1 - y2)/(x1 - x2)\n",
    "slope2 = (y3 - y4)/(x3 - x4)\n",
    "a = -1* slope1\n",
    "b = 1\n",
    "e = y2- (slope1*x2)\n",
    "c = -1* slope2\n",
    "d = 1\n",
    "f = y4- (slope2*x4)\n",
    "i = LinearEquation(a, b, c, d, e, f)\n",
    "if i.isSolvable():\n",
    "    print(\"The point of intersection is (\", i.getX(), \", \", i.getY, \")\")"
   ]
  },
  {
   "cell_type": "code",
   "execution_count": null,
   "metadata": {},
   "outputs": [],
   "source": []
  }
 ],
 "metadata": {
  "kernelspec": {
   "display_name": "Python 3",
   "language": "python",
   "name": "python3"
  },
  "language_info": {
   "codemirror_mode": {
    "name": "ipython",
    "version": 3
   },
   "file_extension": ".py",
   "mimetype": "text/x-python",
   "name": "python",
   "nbconvert_exporter": "python",
   "pygments_lexer": "ipython3",
   "version": "3.7.3"
  }
 },
 "nbformat": 4,
 "nbformat_minor": 2
}
