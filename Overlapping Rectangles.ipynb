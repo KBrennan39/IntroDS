{
 "cells": [
  {
   "cell_type": "code",
   "execution_count": 15,
   "metadata": {},
   "outputs": [
    {
     "name": "stdout",
     "output_type": "stream",
     "text": [
      "Enter the width of the first rectangle: 4\n",
      "Enter the height of the first rectangle: 4\n",
      "Enter the x coordinate of center 1: 0\n",
      "Enter the y coordinate of center 1: 0\n",
      "Enter the width of the second rectangle: 2\n",
      "Enter the height of the second rectangle: 2\n",
      "Enter the x coordinate of center 2: 2\n",
      "Enter the y coordinate of center 2: 1\n"
     ]
    }
   ],
   "source": [
    "width1 = int(input(\"Enter the width of the first rectangle: \"))\n",
    "height1 = int(input(\"Enter the height of the first rectangle: \"))\n",
    "x1 = int(input(\"Enter the x coordinate of center 1: \"))\n",
    "y1 = int(input(\"Enter the y coordinate of center 1: \"))\n",
    "width2 = int(input(\"Enter the width of the second rectangle: \"))\n",
    "height2 = int(input(\"Enter the height of the second rectangle: \"))\n",
    "x2 = int(input(\"Enter the x coordinate of center 2: \"))\n",
    "y2 = int(input(\"Enter the y coordinate of center 2: \"))\n"
   ]
  },
  {
   "cell_type": "code",
   "execution_count": 16,
   "metadata": {},
   "outputs": [
    {
     "name": "stdout",
     "output_type": "stream",
     "text": [
      "Rectangle 1 does not contain Rectangle 2\n",
      "Rectangle 1 does not contain Rectangle 2\n"
     ]
    }
   ],
   "source": [
    "if width2 < width1 and height2 <height1:\n",
    "    if x2<= x1 + width1/2-width2/2 and x2 >= x1-width1/2+width2/2:\n",
    "        if y2<= y1 + height1/2 and y2 >= y1-height1/2:\n",
    "            print(\"Rectangle 1 contains Rectangle 2\")\n",
    "        else:\n",
    "            print(\"Rectangle 1 does not contain Rectangle 2\")\n",
    "    else:\n",
    "        print(\"Rectangle 1 does not contain Rectangle 2\")\n",
    "else:\n",
    "    print(\"Rectangle 1 does not contain Rectangle 2\")"
   ]
  },
  {
   "cell_type": "code",
   "execution_count": 17,
   "metadata": {},
   "outputs": [
    {
     "name": "stdout",
     "output_type": "stream",
     "text": [
      "Rectangle and Rectangle 2 overlap\n",
      "Rectangle and Rectangle 2 overlap\n"
     ]
    }
   ],
   "source": [
    "if x2 <= x1+width1/2+width2/2 and x2 >= x1-width1/2-width2/2:\n",
    "    if y2 <= y1+height1/2+height2/2 and y2 >= y1-height1/2-height2/2:\n",
    "        print(\"Rectangle and Rectangle 2 overlap\")\n",
    "    else:\n",
    "        print(\"Rectangle and Rectangle 2 do not overlap\")\n",
    "else:\n",
    "    print(\"Rectangle and Rectangle 2 do not overlap\")"
   ]
  },
  {
   "cell_type": "code",
   "execution_count": null,
   "metadata": {},
   "outputs": [],
   "source": []
  }
 ],
 "metadata": {
  "kernelspec": {
   "display_name": "Python 3",
   "language": "python",
   "name": "python3"
  },
  "language_info": {
   "codemirror_mode": {
    "name": "ipython",
    "version": 3
   },
   "file_extension": ".py",
   "mimetype": "text/x-python",
   "name": "python",
   "nbconvert_exporter": "python",
   "pygments_lexer": "ipython3",
   "version": "3.7.3"
  }
 },
 "nbformat": 4,
 "nbformat_minor": 2
}
