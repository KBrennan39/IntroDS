{
 "cells": [
  {
   "cell_type": "code",
   "execution_count": 1,
   "metadata": {},
   "outputs": [
    {
     "name": "stdout",
     "output_type": "stream",
     "text": [
      "[[0 0 0 0 0 0]\n",
      " [0 0 0 0 0 0]\n",
      " [0 0 0 0 0 0]\n",
      " [4 5 3 1 6 0]\n",
      " [0 0 0 0 0 0]\n",
      " [0 0 0 0 0 0]]\n"
     ]
    }
   ],
   "source": [
    "import numpy as np\n",
    "grid = np.zeros( (6,6), dtype = int )\n",
    "aword = 'decaf'\n",
    "x = 0   # where to put it\n",
    "y = 3\n",
    "for letter in aword:\n",
    "    grid[ (y, x) ] = ord(letter) - 96\n",
    "    x += 1\n",
    "    if (x >= 6):\n",
    "        break   # don't go outside the grid!\n",
    "print(grid)"
   ]
  },
  {
   "cell_type": "code",
   "execution_count": 26,
   "metadata": {},
   "outputs": [],
   "source": [
    "def prettyprint( printme ):\n",
    "    pretty = np.array([[\" \",\" \",\" \",\" \",\" \",\" \"],\n",
    "                      [\" \",\" \",\" \",\" \",\" \",\" \"],\n",
    "                      [\" \",\" \",\" \",\" \",\" \",\" \"],\n",
    "                      [\" \",\" \",\" \",\" \",\" \",\" \"],\n",
    "                      [\" \",\" \",\" \",\" \",\" \",\" \"],\n",
    "                      [\" \",\" \",\" \",\" \",\" \",\" \"]])\n",
    "    x=0\n",
    "    for l in printme:\n",
    "        y=0\n",
    "        for e in l:\n",
    "            if e>0: pretty[x,y]=(chr(e+64))\n",
    "            y+=1\n",
    "        x+=1\n",
    "    \n",
    "    print(pretty)"
   ]
  },
  {
   "cell_type": "code",
   "execution_count": 27,
   "metadata": {},
   "outputs": [
    {
     "name": "stdout",
     "output_type": "stream",
     "text": [
      "[[' ' ' ' ' ' ' ' ' ' ' ']\n",
      " [' ' ' ' ' ' ' ' ' ' ' ']\n",
      " [' ' ' ' ' ' ' ' ' ' ' ']\n",
      " ['D' 'E' 'C' 'A' 'F' ' ']\n",
      " [' ' ' ' ' ' ' ' ' ' ' ']\n",
      " [' ' ' ' ' ' ' ' ' ' ' ']]\n"
     ]
    }
   ],
   "source": [
    "prettyprint(grid)"
   ]
  },
  {
   "cell_type": "code",
   "execution_count": 28,
   "metadata": {},
   "outputs": [
    {
     "ename": "SyntaxError",
     "evalue": "unexpected EOF while parsing (<ipython-input-28-2ea545d60614>, line 4)",
     "output_type": "error",
     "traceback": [
      "\u001b[0;36m  File \u001b[0;32m\"<ipython-input-28-2ea545d60614>\"\u001b[0;36m, line \u001b[0;32m4\u001b[0m\n\u001b[0;31m    \u001b[0m\n\u001b[0m    ^\u001b[0m\n\u001b[0;31mSyntaxError\u001b[0m\u001b[0;31m:\u001b[0m unexpected EOF while parsing\n"
     ]
    }
   ],
   "source": [
    "def place(word):\n",
    "    for x in range(6):\n",
    "        for y in range(6):\n",
    "            "
   ]
  },
  {
   "cell_type": "code",
   "execution_count": 125,
   "metadata": {},
   "outputs": [],
   "source": [
    "def doesItFit(word, x, y):\n",
    "    a =x\n",
    "    b=y\n",
    "    if horizontal(a, b, word, x, y):\n",
    "        return \"H\"\n",
    "    elif vertical(a, b, word, x, y):\n",
    "        return \"V\"\n",
    "    else: return \"N\""
   ]
  },
  {
   "cell_type": "code",
   "execution_count": 126,
   "metadata": {},
   "outputs": [],
   "source": [
    "def horizontal(b, word, x, y):\n",
    "    for i in range(len(word)):\n",
    "        if b == 6: return False\n",
    "        if not grid[x, b] == 0 and not grid[x, b] == ord(word[b-y])-96:\n",
    "            return False\n",
    "        b+=1\n",
    "    return True"
   ]
  },
  {
   "cell_type": "code",
   "execution_count": 127,
   "metadata": {},
   "outputs": [],
   "source": [
    "def vertical(a, b, word, x, y):\n",
    "    while a< 6:\n",
    "        if a-x == len(word): return False\n",
    "        if grid[a, y]==0 or grid[a, y]== ord(word[a-x]) -96:\n",
    "            a+=1\n",
    "        else: return False\n",
    "    if 6-x >= len(word): return True\n",
    "    else: return False"
   ]
  },
  {
   "cell_type": "code",
   "execution_count": 128,
   "metadata": {},
   "outputs": [
    {
     "data": {
      "text/plain": [
       "True"
      ]
     },
     "execution_count": 128,
     "metadata": {},
     "output_type": "execute_result"
    }
   ],
   "source": [
    "horizontal(0, \"faced\", 5, 0)"
   ]
  },
  {
   "cell_type": "code",
   "execution_count": 120,
   "metadata": {},
   "outputs": [
    {
     "data": {
      "text/plain": [
       "array([[0, 0, 0, 0, 0, 0],\n",
       "       [0, 0, 0, 0, 0, 0],\n",
       "       [0, 0, 0, 0, 0, 0],\n",
       "       [4, 5, 3, 1, 6, 0],\n",
       "       [0, 0, 0, 0, 0, 0],\n",
       "       [0, 0, 0, 0, 0, 0]])"
      ]
     },
     "execution_count": 120,
     "metadata": {},
     "output_type": "execute_result"
    }
   ],
   "source": [
    "grid"
   ]
  },
  {
   "cell_type": "code",
   "execution_count": null,
   "metadata": {},
   "outputs": [],
   "source": []
  }
 ],
 "metadata": {
  "kernelspec": {
   "display_name": "Python 3",
   "language": "python",
   "name": "python3"
  },
  "language_info": {
   "codemirror_mode": {
    "name": "ipython",
    "version": 3
   },
   "file_extension": ".py",
   "mimetype": "text/x-python",
   "name": "python",
   "nbconvert_exporter": "python",
   "pygments_lexer": "ipython3",
   "version": "3.7.3"
  }
 },
 "nbformat": 4,
 "nbformat_minor": 2
}
