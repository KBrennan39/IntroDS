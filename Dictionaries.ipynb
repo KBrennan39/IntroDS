{
 "cells": [
  {
   "cell_type": "code",
   "execution_count": null,
   "metadata": {},
   "outputs": [],
   "source": [
    "purse = dict()\n",
    "purse['money'] = 12\n",
    "purse['candy'] = 3\n",
    "purse['tissue'] = 75"
   ]
  },
  {
   "cell_type": "code",
   "execution_count": null,
   "metadata": {},
   "outputs": [],
   "source": [
    "print(purse)\n",
    "print(purse['money'])"
   ]
  },
  {
   "cell_type": "code",
   "execution_count": null,
   "metadata": {},
   "outputs": [],
   "source": [
    "lst = []\n",
    "lst.append(21)\n",
    "lst.append(183)\n",
    "print(lst)\n"
   ]
  },
  {
   "cell_type": "code",
   "execution_count": null,
   "metadata": {},
   "outputs": [],
   "source": [
    "import string\n",
    "with open('words.txt') as f:\n",
    "    fhand = f.readlines()  \n",
    "#fhand = open('words.txt')\n",
    "#myFile = fhand.read()\n",
    "lst = []\n",
    "counting = []\n",
    "for line in fhand:\n",
    "    words = line.split()\n",
    "    for word in words:\n",
    "        word = word.lower()\n",
    "        word = word.translate(str.maketrans('', '', string.punctuation))\n",
    "\n",
    "        if word in lst: \n",
    "            counting[lst.index(word)] +=1 \n",
    "        else:\n",
    "            counting.append(1)\n",
    "            lst.append(word)\n",
    "            \n",
    "for x in range(len(lst)):\n",
    "    print(lst[x], ': ', counting[x])"
   ]
  },
  {
   "cell_type": "code",
   "execution_count": null,
   "metadata": {},
   "outputs": [],
   "source": [
    "with open('romeo.txt') as f:\n",
    "        lines = f.readlines()\n",
    "        \n",
    "counter = {}\n",
    "for line in lines:\n",
    "        words = line.split()\n",
    "        for word in words:\n",
    "                if word in counter:\n",
    "                    counter[word] += 1\n",
    "                else:\n",
    "                    counter[word] = 1\n",
    "print(counter)"
   ]
  },
  {
   "cell_type": "markdown",
   "metadata": {},
   "source": [
    "### Exercise 2"
   ]
  },
  {
   "cell_type": "code",
   "execution_count": null,
   "metadata": {},
   "outputs": [],
   "source": [
    "inp = input('Enter the file name: ')\n",
    "fhand = open(inp)\n",
    "dates = dict()\n",
    "for line in fhand:\n",
    "    if line.startswith('From:'):\n",
    "        words = line.split()\n",
    "        if len(words) >= 2:\n",
    "            if words[1] in dates:\n",
    "                dates[words[1]] +=1\n",
    "            else:\n",
    "                dates[words[1]] = 1\n",
    "print(dates)"
   ]
  },
  {
   "cell_type": "markdown",
   "metadata": {},
   "source": [
    "### Exercise 3"
   ]
  },
  {
   "cell_type": "code",
   "execution_count": null,
   "metadata": {},
   "outputs": [],
   "source": [
    "inp = input('Enter the file name: ')\n",
    "fhand = open(inp)\n",
    "dates = dict()\n",
    "for line in fhand:\n",
    "    if line.startswith('From'):\n",
    "        words = line.split()\n",
    "        if len(words) >= 3:\n",
    "            if words[2] in dates:\n",
    "                dates[words[2]] +=1\n",
    "            else:\n",
    "                dates[words[2]] = 1\n",
    "print(dates)"
   ]
  },
  {
   "cell_type": "markdown",
   "metadata": {},
   "source": [
    "### Exercise 4"
   ]
  },
  {
   "cell_type": "code",
   "execution_count": 2,
   "metadata": {},
   "outputs": [
    {
     "name": "stdout",
     "output_type": "stream",
     "text": [
      "Enter the file name: mbox-short.txt\n",
      "cwen@iupui.edu 5\n"
     ]
    }
   ],
   "source": [
    "inp = input('Enter the file name: ')\n",
    "fhand = open(inp)\n",
    "dates = dict()\n",
    "for line in fhand:\n",
    "    if line.startswith('From:'):\n",
    "        words = line.split()\n",
    "        if len(words) >= 2:\n",
    "            if words[1] in dates:\n",
    "                dates[words[1]] +=1\n",
    "            else:\n",
    "                dates[words[1]] = 1\n",
    "\n",
    "maximum = 0\n",
    "keymax = ''\n",
    "for key in dates: \n",
    "    if dates[key] > maximum:\n",
    "        maximum = dates[key]\n",
    "        keymax = key\n",
    "print(keymax, maximum)\n"
   ]
  },
  {
   "cell_type": "markdown",
   "metadata": {},
   "source": [
    "### Exercise 5"
   ]
  },
  {
   "cell_type": "code",
   "execution_count": 1,
   "metadata": {},
   "outputs": [
    {
     "name": "stdout",
     "output_type": "stream",
     "text": [
      "Enter the file name: mbox-short.txt\n",
      "{'uct.ac.za': 6, 'media.berkeley.edu': 4, 'umich.edu': 7, 'iupui.edu': 8, 'caret.cam.ac.uk': 1, 'gmail.com': 1}\n"
     ]
    }
   ],
   "source": [
    "inp = input('Enter the file name: ')\n",
    "fhand = open(inp)\n",
    "dates = dict()\n",
    "key = ''\n",
    "for line in fhand:\n",
    "    if line.startswith('From:'):\n",
    "        words = line.split()\n",
    "        key = words[1].split('@')\n",
    "        if key[1] in dates:\n",
    "            dates[key[1]] += 1\n",
    "        else:\n",
    "            dates[key[1]] = 1\n",
    "print(dates)"
   ]
  },
  {
   "cell_type": "code",
   "execution_count": null,
   "metadata": {},
   "outputs": [],
   "source": []
  }
 ],
 "metadata": {
  "kernelspec": {
   "display_name": "Python 3",
   "language": "python",
   "name": "python3"
  },
  "language_info": {
   "codemirror_mode": {
    "name": "ipython",
    "version": 3
   },
   "file_extension": ".py",
   "mimetype": "text/x-python",
   "name": "python",
   "nbconvert_exporter": "python",
   "pygments_lexer": "ipython3",
   "version": "3.7.3"
  }
 },
 "nbformat": 4,
 "nbformat_minor": 2
}
