{
 "cells": [
  {
   "cell_type": "markdown",
   "metadata": {},
   "source": [
    "### Exercise 2"
   ]
  },
  {
   "cell_type": "code",
   "execution_count": null,
   "metadata": {},
   "outputs": [],
   "source": [
    "fhand = open('mbox-short.txt')\n",
    "count = 0\n",
    "for line in fhand:\n",
    "    words = line.split()\n",
    "    if len(words) <3 : continue\n",
    "    if words[0] == 0 : continue\n",
    "    if words[0] != 'From' : continue\n",
    "    print(words[2])\n",
    "        "
   ]
  },
  {
   "cell_type": "markdown",
   "metadata": {},
   "source": [
    "### Exercise 3"
   ]
  },
  {
   "cell_type": "code",
   "execution_count": null,
   "metadata": {},
   "outputs": [],
   "source": [
    "fhand = open('mbox-short.txt')\n",
    "count = 0\n",
    "for line in fhand:\n",
    "    words = line.split()\n",
    "    if len(words) <3 or words[0] == 0 or words[0] != 'From': continue\n",
    "    print(words[2])\n",
    "        "
   ]
  },
  {
   "cell_type": "markdown",
   "metadata": {},
   "source": [
    "### Exercise 4"
   ]
  },
  {
   "cell_type": "code",
   "execution_count": null,
   "metadata": {},
   "outputs": [],
   "source": [
    "fhand = open('romeo.txt')\n",
    "script = []\n",
    "for lines in fhand:\n",
    "    words = lines.split()\n",
    "    for word in words:\n",
    "        if word in script: continue\n",
    "        script.append(word)\n",
    "print(sorted(script))"
   ]
  },
  {
   "cell_type": "markdown",
   "metadata": {},
   "source": [
    "### Exercise 5"
   ]
  },
  {
   "cell_type": "code",
   "execution_count": null,
   "metadata": {},
   "outputs": [],
   "source": [
    "fhand = open('mbox-short.txt')\n",
    "count = 0\n",
    "for line in fhand:\n",
    "    words = line.split()\n",
    "    if len(words) <3 or words[0] == 0 or words[0] != 'From': continue\n",
    "    print(words[1])\n",
    "        "
   ]
  },
  {
   "cell_type": "markdown",
   "metadata": {},
   "source": [
    "### Exercise 6"
   ]
  },
  {
   "cell_type": "code",
   "execution_count": 1,
   "metadata": {},
   "outputs": [
    {
     "name": "stdout",
     "output_type": "stream",
     "text": [
      "Enter a number: 7\n",
      "Enter a number: 3\n",
      "Enter a number: 5\n",
      "Enter a number: 1\n",
      "Enter a number: done\n",
      "Maximum:  7\n",
      "Minimum:  1\n"
     ]
    }
   ],
   "source": [
    "l = []\n",
    "while not 'done' in l:\n",
    "    l.append(input('Enter a number: '))\n",
    "del l[len(l)-1]\n",
    "minimum = l[0]\n",
    "for number in l:\n",
    "    if number < minimum: minimum = number\n",
    "maximum = l[0]\n",
    "for numbers in l:\n",
    "    if numbers > maximum: maximum = numbers\n",
    "\n",
    "print(\"Maximum: \", maximum)\n",
    "print(\"Minimum: \", minimum)"
   ]
  },
  {
   "cell_type": "code",
   "execution_count": null,
   "metadata": {},
   "outputs": [],
   "source": []
  }
 ],
 "metadata": {
  "kernelspec": {
   "display_name": "Python 3",
   "language": "python",
   "name": "python3"
  },
  "language_info": {
   "codemirror_mode": {
    "name": "ipython",
    "version": 3
   },
   "file_extension": ".py",
   "mimetype": "text/x-python",
   "name": "python",
   "nbconvert_exporter": "python",
   "pygments_lexer": "ipython3",
   "version": "3.7.3"
  }
 },
 "nbformat": 4,
 "nbformat_minor": 2
}
