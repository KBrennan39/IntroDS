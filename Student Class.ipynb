{
 "cells": [
  {
   "cell_type": "code",
   "execution_count": 69,
   "metadata": {},
   "outputs": [],
   "source": [
    "class Students():\n",
    "    numStudentsInClass = 0\n",
    "    \n",
    "    def __init__(this, fname, lname, gpa, age):\n",
    "        this.fname = fname\n",
    "        this.lname = lname\n",
    "        this.gpa = gpa\n",
    "        this.age = age\n",
    "        Students.numStudentsInClass +=1\n",
    "        \n",
    "    def printStudent(this):\n",
    "        print(\"{} {}\".format(this.fname, this.lname), \"number of students is \", this.numStudentsInClass)"
   ]
  },
  {
   "cell_type": "code",
   "execution_count": 70,
   "metadata": {},
   "outputs": [
    {
     "name": "stdout",
     "output_type": "stream",
     "text": [
      "Emily Lo number of students is  2\n",
      "Taiwo Togun number of students is  2\n",
      "2\n",
      "2\n",
      "2\n"
     ]
    }
   ],
   "source": [
    "student1 = Students(\"Emily\", \"Lo\", 4.0, 15)\n",
    "student2 = Students(\"Taiwo\", \"Togun\", 1.7, 22)\n",
    "student1.printStudent()\n",
    "student2.printStudent()\n",
    "print(student1.numStudentsInClass)\n",
    "print(student2.numStudentsInClass)\n",
    "print(Students.numStudentsInClass)                                                            "
   ]
  },
  {
   "cell_type": "code",
   "execution_count": 71,
   "metadata": {},
   "outputs": [
    {
     "name": "stdout",
     "output_type": "stream",
     "text": [
      "Emily Lo number of students is  2\n"
     ]
    }
   ],
   "source": [
    "Students.printStudent(student1)                                                               "
   ]
  },
  {
   "cell_type": "code",
   "execution_count": 82,
   "metadata": {},
   "outputs": [],
   "source": [
    "class Course():\n",
    "    def __init__(self, courseName, students, numberOfStudents):\n",
    "        self.courseName = courseName\n",
    "        self.students = students\n",
    "        self.numberOfStudents = numberOfStudents\n",
    "    def getCourseName(self):\n",
    "        return courseName\n",
    "    def addStudent(self, student):\n",
    "        self.students.append(student)\n",
    "    def dropStudent(self, student):\n",
    "        self.students.remove(student)\n",
    "    def getStudents(self):\n",
    "        return students\n",
    "    def getNumberOfStudents(self):\n",
    "        return numberOfStudents                                                               "
   ]
  },
  {
   "cell_type": "code",
   "execution_count": 85,
   "metadata": {
    "scrolled": true
   },
   "outputs": [
    {
     "name": "stdout",
     "output_type": "stream",
     "text": [
      "[<__main__.Students object at 0x104ea8240>]\n",
      "Taiwo\n"
     ]
    }
   ],
   "source": [
    "c = Course(\"Computer Science\", [student1, student2], 2)\n",
    "c.dropStudent(student1)\n",
    "print(c.students)\n",
    "print(c.students[0].fname)                                                                    "
   ]
  },
  {
   "cell_type": "code",
   "execution_count": null,
   "metadata": {},
   "outputs": [],
   "source": [
    "                                                                                              "
   ]
  }
 ],
 "metadata": {
  "kernelspec": {
   "display_name": "Python 3",
   "language": "python",
   "name": "python3"
  },
  "language_info": {
   "codemirror_mode": {
    "name": "ipython",
    "version": 3
   },
   "file_extension": ".py",
   "mimetype": "text/x-python",
   "name": "python",
   "nbconvert_exporter": "python",
   "pygments_lexer": "ipython3",
   "version": "3.7.3"
  }
 },
 "nbformat": 4,
 "nbformat_minor": 2
}
