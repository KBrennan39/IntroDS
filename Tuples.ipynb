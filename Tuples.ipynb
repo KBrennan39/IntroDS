{
 "cells": [
  {
   "cell_type": "code",
   "execution_count": null,
   "metadata": {},
   "outputs": [],
   "source": [
    "t1 = ('a',)\n",
    "type(t1)"
   ]
  },
  {
   "cell_type": "code",
   "execution_count": null,
   "metadata": {},
   "outputs": [],
   "source": [
    "t2 = ('a')\n",
    "type(t2)"
   ]
  },
  {
   "cell_type": "code",
   "execution_count": null,
   "metadata": {},
   "outputs": [],
   "source": [
    "t = tuple()\n",
    "print(t)"
   ]
  },
  {
   "cell_type": "code",
   "execution_count": null,
   "metadata": {},
   "outputs": [],
   "source": [
    "t = ('a', 'b', 'c', 'd', 'e')\n",
    "print(t[0])\n",
    "t = ('A',) + t[1:]\n",
    "print(t)"
   ]
  },
  {
   "cell_type": "code",
   "execution_count": null,
   "metadata": {},
   "outputs": [],
   "source": [
    "(0, 1, 2) < (0, 3, 4)"
   ]
  },
  {
   "cell_type": "code",
   "execution_count": null,
   "metadata": {},
   "outputs": [],
   "source": [
    "txt = 'but soft what light in yonder window breaks'\n",
    "words = txt.split()\n",
    "t = list()\n",
    "for word in words:\n",
    "    t.append((len(word), word))\n",
    "t.sort(reverse=True)\n",
    "res = list()\n",
    "for length, word in t:\n",
    "    res.append(word)\n",
    "print(res)"
   ]
  },
  {
   "cell_type": "code",
   "execution_count": null,
   "metadata": {},
   "outputs": [],
   "source": [
    "m = ['have', 'fun']\n",
    "(x, y) = m\n",
    "x"
   ]
  },
  {
   "cell_type": "code",
   "execution_count": null,
   "metadata": {},
   "outputs": [],
   "source": [
    "y"
   ]
  },
  {
   "cell_type": "code",
   "execution_count": null,
   "metadata": {},
   "outputs": [],
   "source": [
    "addr = 'monty@python.org'\n",
    "uname, donaim = addr.split('@')\n",
    "print(uname)\n",
    "print(donaim)"
   ]
  },
  {
   "cell_type": "code",
   "execution_count": null,
   "metadata": {},
   "outputs": [],
   "source": [
    "d = {'a':10, 'b':1, 'c':22}\n",
    "t = list(d.items())\n",
    "print(t)"
   ]
  },
  {
   "cell_type": "code",
   "execution_count": null,
   "metadata": {},
   "outputs": [],
   "source": [
    "t.sort()\n",
    "t"
   ]
  },
  {
   "cell_type": "code",
   "execution_count": null,
   "metadata": {},
   "outputs": [],
   "source": [
    "d = {'a':10, 'b':1, 'c':22}\n",
    "l = list()\n",
    "for key, val in list(d.items()):\n",
    "    l.append((val, key))\n",
    "l  "
   ]
  },
  {
   "cell_type": "code",
   "execution_count": null,
   "metadata": {},
   "outputs": [],
   "source": [
    "l.sort(reverse=True)\n",
    "l"
   ]
  },
  {
   "cell_type": "code",
   "execution_count": null,
   "metadata": {},
   "outputs": [],
   "source": [
    "import string\n",
    "fhand = open('romeo.txt')\n",
    "counts = dict()\n",
    "for line in fhand:\n",
    "    line = line.translate(str.maketrans('', '', string.punctuation))\n",
    "    line = line.lower()\n",
    "    words = line.split()\n",
    "    for word in words:\n",
    "        if word not in counts:\n",
    "            counts[word] = 1\n",
    "        else:\n",
    "            counts[word] += 1\n",
    "lst = list()\n",
    "for key, val in list(counts.items()):\n",
    "    lst.append((val, key))\n",
    "lst.sort(reverse=True)\n",
    "for key, val in lst[:10]:\n",
    "    print(key, val)"
   ]
  },
  {
   "cell_type": "markdown",
   "metadata": {},
   "source": [
    "### Exercise 1"
   ]
  },
  {
   "cell_type": "code",
   "execution_count": null,
   "metadata": {},
   "outputs": [],
   "source": [
    "inp = input('Enter the file name: ')\n",
    "fhand = open(inp)\n",
    "dates = dict()\n",
    "for line in fhand:\n",
    "    if line.startswith('From:'):\n",
    "        words = line.split()\n",
    "        if len(words) >= 2:\n",
    "            if words[1] in dates:\n",
    "                dates[words[1]] +=1\n",
    "            else:\n",
    "                dates[words[1]] = 1\n",
    "\n",
    "lst = list()\n",
    "for email, count in list(dates.items()):\n",
    "    lst.append((count, email))\n",
    "lst.sort(reverse=True)\n",
    "for val, key in lst[:1]:\n",
    "    print(key, val)"
   ]
  },
  {
   "cell_type": "markdown",
   "metadata": {},
   "source": [
    "### Exercise 2"
   ]
  },
  {
   "cell_type": "code",
   "execution_count": 3,
   "metadata": {},
   "outputs": [
    {
     "name": "stdout",
     "output_type": "stream",
     "text": [
      "Enter the file name: mbox-short.txt\n",
      "04 3\n",
      "06 1\n",
      "07 1\n",
      "09 2\n",
      "10 3\n",
      "11 6\n",
      "14 1\n",
      "15 2\n",
      "16 4\n",
      "17 2\n",
      "18 1\n",
      "19 1\n",
      "04 3\n",
      "06 1\n",
      "07 1\n",
      "09 2\n",
      "10 3\n",
      "11 6\n",
      "14 1\n",
      "15 2\n",
      "16 4\n",
      "17 2\n",
      "18 1\n",
      "19 1\n"
     ]
    }
   ],
   "source": [
    "inp = input('Enter the file name: ')\n",
    "fhand = open(inp)\n",
    "hours = dict()\n",
    "time = ''\n",
    "for line in fhand:\n",
    "    if line.startswith('From'):\n",
    "        \n",
    "        words = line.split()\n",
    "        if len(words) >=6:\n",
    "            time = words[5].split(':')\n",
    "            \n",
    "            if time[0] in hours:\n",
    "                hours[time[0]] +=1\n",
    "            else:\n",
    "                hours[time[0]] = 1\n",
    "    time = ''\n",
    "\n",
    "lst = list()\n",
    "for time, count in list(hours.items()):\n",
    "    lst.append((time, count))\n",
    "lst.sort()\n",
    "for val, key in lst:\n",
    "    print(val, key)"
   ]
  },
  {
   "cell_type": "markdown",
   "metadata": {},
   "source": [
    "### Exercise 3"
   ]
  },
  {
   "cell_type": "code",
   "execution_count": 1,
   "metadata": {},
   "outputs": [
    {
     "name": "stdout",
     "output_type": "stream",
     "text": [
      "Enter a file name: romeo.txt\n",
      "i   14\n",
      "t   12\n",
      "e   12\n",
      "s   11\n",
      "a   11\n",
      "n   9\n",
      "h   9\n",
      "o   8\n",
      "r   7\n",
      "u   6\n",
      "l   6\n",
      "d   6\n",
      "w   5\n",
      "k   3\n",
      "g   3\n",
      "f   3\n",
      "y   2\n",
      "b   2\n",
      "v   1\n",
      "p   1\n",
      "m   1\n",
      "j   1\n",
      "c   1\n"
     ]
    }
   ],
   "source": [
    "import string\n",
    "inp = input(\"Enter a file name: \")\n",
    "fhand = open(inp)\n",
    "lF = dict()\n",
    "letters = ['a', 'b', 'c', 'd', 'e', 'f', 'g', 'h', 'i', 'j', 'k', 'l', 'm', 'n', 'o', 'p', 'q', 'r', 's', 't', 'u', 'v', 'w', 'x', 'y', 'x']\n",
    "for line in fhand:\n",
    "    line = line.lower()\n",
    "    line = line.translate(line.maketrans('', '', string.punctuation))\n",
    "    words = line.split()\n",
    "    for word in words:\n",
    "        for i in range(len(word)):\n",
    "            if word[i] in lF and word[i] in letters:\n",
    "                lF[word[i]] += 1\n",
    "            elif word[i] not in lF and word[i] in letters:\n",
    "                lF[word[i]] = 1\n",
    "lst = list()\n",
    "for letter, count in list(lF.items()):\n",
    "    lst.append((count, letter))\n",
    "lst.sort(reverse=True)\n",
    "for val, key in lst:\n",
    "    print(key, \" \", val)"
   ]
  },
  {
   "cell_type": "code",
   "execution_count": null,
   "metadata": {},
   "outputs": [],
   "source": []
  }
 ],
 "metadata": {
  "kernelspec": {
   "display_name": "Python 3",
   "language": "python",
   "name": "python3"
  },
  "language_info": {
   "codemirror_mode": {
    "name": "ipython",
    "version": 3
   },
   "file_extension": ".py",
   "mimetype": "text/x-python",
   "name": "python",
   "nbconvert_exporter": "python",
   "pygments_lexer": "ipython3",
   "version": "3.7.3"
  }
 },
 "nbformat": 4,
 "nbformat_minor": 2
}
