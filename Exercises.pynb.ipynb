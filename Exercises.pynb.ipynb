{
 "cells": [
  {
   "cell_type": "markdown",
   "metadata": {},
   "source": [
    "### 1. Match ends\n",
    "- This program prints the amount of strings that are more than two letters and the first and last letters are the same"
   ]
  },
  {
   "cell_type": "code",
   "execution_count": 4,
   "metadata": {},
   "outputs": [],
   "source": [
    "def match_ends(strings):\n",
    "    count =0\n",
    "    for x in range(len(strings)):\n",
    "        if len(strings[x]) >= 2 and strings[x][0] == strings[x][len(strings[x])-1]:\n",
    "            count+=1\n",
    "    return count"
   ]
  },
  {
   "cell_type": "code",
   "execution_count": 3,
   "metadata": {},
   "outputs": [
    {
     "name": "stdout",
     "output_type": "stream",
     "text": [
      "2\n"
     ]
    }
   ],
   "source": [
    "strings = [\"A\", \"did\", \"happy\", \"mom\"]\n",
    "print(match_ends(strings))"
   ]
  },
  {
   "cell_type": "markdown",
   "metadata": {},
   "source": [
    "### 2. Front X\n",
    "- This program alphabetically sorts a list of strings except all strings that begin with \"x\" go first"
   ]
  },
  {
   "cell_type": "code",
   "execution_count": 14,
   "metadata": {},
   "outputs": [],
   "source": [
    "def front_x(strings):\n",
    "    list1 = []\n",
    "    listX = []\n",
    "    for x in strings:\n",
    "        if strings[x].startswith(\"x\"):\n",
    "            listX.append(strings[x])\n",
    "            continue\n",
    "        list1.append(strings[x])\n",
    "    list1.sort()\n",
    "    listX.sort()\n",
    "    return listX + list1\n",
    "\n",
    "    "
   ]
  },
  {
   "cell_type": "code",
   "execution_count": 26,
   "metadata": {},
   "outputs": [
    {
     "name": "stdout",
     "output_type": "stream",
     "text": [
      "['xanadu', 'xyz', 'aardvark', 'apple', 'mix']\n"
     ]
    }
   ],
   "source": [
    "strings = ['mix', 'xyz', 'apple', 'xanadu', 'aardvark']\n",
    "print(front_x(strings))"
   ]
  },
  {
   "cell_type": "markdown",
   "metadata": {},
   "source": [
    "### 3. Donuts\n",
    "- This program returns the number of donuts, unless it is over 10, in which case it returns \"many\""
   ]
  },
  {
   "cell_type": "code",
   "execution_count": 16,
   "metadata": {},
   "outputs": [],
   "source": [
    "def donuts(num):\n",
    "    if num > 10:\n",
    "        return \"many\"\n",
    "    else:\n",
    "        return num"
   ]
  },
  {
   "cell_type": "code",
   "execution_count": 19,
   "metadata": {},
   "outputs": [
    {
     "name": "stdout",
     "output_type": "stream",
     "text": [
      "10\n"
     ]
    }
   ],
   "source": [
    "print(donuts(10))"
   ]
  },
  {
   "cell_type": "markdown",
   "metadata": {},
   "source": [
    "### 4. Both ends\n",
    "- This program returns a string made up the firt and last two letters of another string"
   ]
  },
  {
   "cell_type": "code",
   "execution_count": 20,
   "metadata": {},
   "outputs": [],
   "source": [
    "def both_ends(string):\n",
    "    if len(string) >=2:\n",
    "        return string[0]+string[1]+string[len(string)-2]+string[len(string)-1]\n",
    "    \n",
    "    else:\n",
    "        return None"
   ]
  },
  {
   "cell_type": "code",
   "execution_count": 72,
   "metadata": {},
   "outputs": [
    {
     "name": "stdout",
     "output_type": "stream",
     "text": [
      "spng\n"
     ]
    }
   ],
   "source": [
    "string = \"spring\"\n",
    "print(both_ends(string))"
   ]
  },
  {
   "cell_type": "markdown",
   "metadata": {},
   "source": [
    "### 5. Fix Start\n",
    "- Given a string and an index, this program returns a string where all occurences of its first character are *, except for the original character at the index itself"
   ]
  },
  {
   "cell_type": "code",
   "execution_count": 65,
   "metadata": {},
   "outputs": [],
   "source": [
    "def fix_start(s, index):\n",
    "    letter = s[index]\n",
    "    x = s[:index] + s[(index+1):]\n",
    "    x = x.replace(letter, '*')\n",
    "    s = x[:index] + letter + x[index:]\n",
    "    \n",
    "    return s\n",
    "    "
   ]
  },
  {
   "cell_type": "code",
   "execution_count": 73,
   "metadata": {},
   "outputs": [
    {
     "name": "stdout",
     "output_type": "stream",
     "text": [
      "bab*bow*l*\n",
      "bab*bow*l*\n"
     ]
    }
   ],
   "source": [
    "s = \"bababowala\"\n",
    "print(fix_start(s, 1))"
   ]
  },
  {
   "cell_type": "markdown",
   "metadata": {},
   "source": [
    "### 6. Mix Up\n",
    "- Given strings a and b, return a single string with a and b sperated by a space '', except swap the first2 chars of each string"
   ]
  },
  {
   "cell_type": "code",
   "execution_count": 74,
   "metadata": {},
   "outputs": [],
   "source": [
    "def mix_up(a, b):\n",
    "    firstCharsA = a[:2]\n",
    "    firstCharsB = b[:2]\n",
    "    return firstCharsB + a[2:] + ' ' + firstCharsA + b[2:]\n"
   ]
  },
  {
   "cell_type": "code",
   "execution_count": 75,
   "metadata": {},
   "outputs": [
    {
     "name": "stdout",
     "output_type": "stream",
     "text": [
      "pox mid\n"
     ]
    }
   ],
   "source": [
    "a = \"mix\"\n",
    "b = \"pod\"\n",
    "print(mix_up(a, b))"
   ]
  },
  {
   "cell_type": "markdown",
   "metadata": {},
   "source": [
    "### 7. Verbing\n",
    "- Given a string, if its length is at least 3, add \"ing\" to its end. Unless it already ends with \"ing\", in which case add \"ly\" instead"
   ]
  },
  {
   "cell_type": "code",
   "execution_count": 77,
   "metadata": {},
   "outputs": [],
   "source": [
    "def verbing(s):\n",
    "    if len(s)>=3:\n",
    "        if s[-3:] == \"ing\":\n",
    "            return s + \"ly\"\n",
    "        else:\n",
    "            return s + \"ing\"\n",
    "    else:\n",
    "        return s"
   ]
  },
  {
   "cell_type": "code",
   "execution_count": 79,
   "metadata": {},
   "outputs": [
    {
     "name": "stdout",
     "output_type": "stream",
     "text": [
      "amazingly\n",
      "amazeing\n"
     ]
    }
   ],
   "source": [
    "s = \"amazing\"\n",
    "s2 = \"amaze\"\n",
    "print(verbing(s))\n",
    "print(verbing(s2))"
   ]
  },
  {
   "cell_type": "markdown",
   "metadata": {},
   "source": [
    "### 8. Not Bad\n",
    "- Given a string, find the first appearance of the substring 'not' and 'bad'. If the 'bad' follows the 'not' replace the whole 'not'...'bad' substring with 'good'"
   ]
  },
  {
   "cell_type": "code",
   "execution_count": 90,
   "metadata": {},
   "outputs": [],
   "source": [
    "def not_bad(s):\n",
    "    if s.find('not')>-1 and s.find('bad')>-1:\n",
    "        if s.index('not') < s.index('bad'):\n",
    "            return s[:s.index('not')] + 'good' + s[s.index('bad')+3:]\n",
    "        \n",
    "    return s\n",
    "    "
   ]
  },
  {
   "cell_type": "code",
   "execution_count": 91,
   "metadata": {},
   "outputs": [
    {
     "name": "stdout",
     "output_type": "stream",
     "text": [
      "This dinner is good. I would say it is not at all bad\n"
     ]
    }
   ],
   "source": [
    "s = \"This dinner is not the same as bad. I would say it is not at all bad\"\n",
    "print(not_bad(s))"
   ]
  },
  {
   "cell_type": "markdown",
   "metadata": {},
   "source": [
    "### 9. Front Back\n",
    "- Consider dividing a string into two halves. If the length is even, the front and balk halves are the same length. If the length is odd, we'll say that the extra char goes in the front half."
   ]
  },
  {
   "cell_type": "code",
   "execution_count": 10,
   "metadata": {},
   "outputs": [],
   "source": [
    "def front_back(a, b):\n",
    "    indexA = 0\n",
    "    indexB = 0\n",
    "    if len(a)%2 == 0:\n",
    "        indexA = int(len(a)/2)\n",
    "    else:\n",
    "        indexA = int(len(a)/2 +1)\n",
    "    \n",
    "    if len(b)%2 == 0:\n",
    "        indexB = int(len(b)/2)\n",
    "    else:\n",
    "        indexB = int(len(b)/2 +1)\n",
    "        \n",
    "    return a[:indexA] + b[:indexB] + a[indexA:] + b[indexB:]\n"
   ]
  },
  {
   "cell_type": "code",
   "execution_count": 11,
   "metadata": {},
   "outputs": [
    {
     "name": "stdout",
     "output_type": "stream",
     "text": [
      "crossrailwordroad\n"
     ]
    }
   ],
   "source": [
    "a = \"crossword\"\n",
    "b = \"railroad\"\n",
    "print(front_back(a, b))"
   ]
  },
  {
   "cell_type": "markdown",
   "metadata": {},
   "source": [
    "### 10. Adjacent Numbers\n",
    "- Given a list of numbers, return a list where all adjacent elements have been reduced to a single element, so the list 1, 2, 2, 3 returns 1, 2, 3"
   ]
  },
  {
   "cell_type": "code",
   "execution_count": 12,
   "metadata": {},
   "outputs": [],
   "source": [
    "def adjacent_numbers(mylist):\n",
    "    for i in range(len(mylist)-3):\n",
    "        if mylist[i] == mylist[i+1]:\n",
    "            mylist.remove(mylist[i])\n",
    "    return mylist"
   ]
  },
  {
   "cell_type": "code",
   "execution_count": 13,
   "metadata": {},
   "outputs": [
    {
     "name": "stdout",
     "output_type": "stream",
     "text": [
      "[1, 2, 3, 4]\n"
     ]
    }
   ],
   "source": [
    "mylist = [1, 2, 2, 3, 3, 4]\n",
    "print(adjacent_numbers(mylist))"
   ]
  },
  {
   "cell_type": "markdown",
   "metadata": {},
   "source": [
    "### 11. Merge Lists\n",
    "- Given two sorted lists, return a sorted list of both of the lists combined"
   ]
  },
  {
   "cell_type": "code",
   "execution_count": 14,
   "metadata": {},
   "outputs": [],
   "source": [
    "def merge_lists(a, b):\n",
    "    return sorted(a+b)"
   ]
  },
  {
   "cell_type": "code",
   "execution_count": 15,
   "metadata": {},
   "outputs": [
    {
     "name": "stdout",
     "output_type": "stream",
     "text": [
      "[1, 2, 3, 4, 6, 7]\n"
     ]
    }
   ],
   "source": [
    "a = [1, 4, 6]\n",
    "b = [2, 3, 7]\n",
    "print(merge_lists(a, b))"
   ]
  },
  {
   "cell_type": "code",
   "execution_count": null,
   "metadata": {},
   "outputs": [],
   "source": []
  }
 ],
 "metadata": {
  "kernelspec": {
   "display_name": "Python 3",
   "language": "python",
   "name": "python3"
  },
  "language_info": {
   "codemirror_mode": {
    "name": "ipython",
    "version": 3
   },
   "file_extension": ".py",
   "mimetype": "text/x-python",
   "name": "python",
   "nbconvert_exporter": "python",
   "pygments_lexer": "ipython3",
   "version": "3.7.3"
  }
 },
 "nbformat": 4,
 "nbformat_minor": 2
}
